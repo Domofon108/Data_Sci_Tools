{
 "cells": [
  {
   "cell_type": "markdown",
   "id": "6f12f7e3-2751-4467-8db2-9d3ffc301e31",
   "metadata": {},
   "source": [
    "# Data Science Tools and Ecosystem"
   ]
  },
  {
   "cell_type": "markdown",
   "id": "cf061e07-8628-4291-8e3e-18aff3d5d058",
   "metadata": {},
   "source": [
    "In this notebook, Data Science Tools and Ecosystem are summarized."
   ]
  },
  {
   "cell_type": "markdown",
   "id": "ad9909e6-7993-471d-86f5-db66631362e1",
   "metadata": {},
   "source": [
    "**Objectives**\n",
    "* Describe the components of a Data Scientist's toolkit and list various tool categories\n",
    "* \n",
    "List examples of open-source tools used in data scienc\n",
    "* \r\n",
    "Describe the relevant features of open-source too\n",
    "* List examples of commercial and cloud-based data science toolsls."
   ]
  },
  {
   "cell_type": "markdown",
   "id": "e958f53b-457a-4f83-a282-a064ef588012",
   "metadata": {},
   "source": [
    "Some of the popular languages that Data Scientists use are:"
   ]
  },
  {
   "cell_type": "markdown",
   "id": "74b0b452-efed-415c-833a-5f0c948e05c6",
   "metadata": {},
   "source": [
    "1. Python\n",
    "2. C++\n",
    "3. R"
   ]
  },
  {
   "cell_type": "markdown",
   "id": "9e5b2304-8769-4686-9b61-f1d4727e61d0",
   "metadata": {},
   "source": [
    "Some of the commonly used libraries used by Data Scientists include:\n",
    "* NumPy\n",
    "* Pandas\n",
    "* Matplotlib\n",
    "* Seaborn"
   ]
  },
  {
   "cell_type": "markdown",
   "id": "451df0f9-72b6-4bef-b914-b8251c22ac6e",
   "metadata": {},
   "source": [
    "Data Science Tools\n",
    "|Tools|\n",
    "|-----|\n",
    "|Weka|\n",
    "|Spark|\n",
    "|Hadoop|"
   ]
  },
  {
   "cell_type": "markdown",
   "id": "03a2d64a-0aad-4f81-b89a-346c3a4da4c8",
   "metadata": {},
   "source": [
    "### Below are a few examples of evaluating arithmetic expressions in Python"
   ]
  },
  {
   "cell_type": "code",
   "execution_count": 3,
   "id": "189eb388-de53-454b-8b57-6ced24b13035",
   "metadata": {},
   "outputs": [
    {
     "data": {
      "text/plain": [
       "17"
      ]
     },
     "execution_count": 3,
     "metadata": {},
     "output_type": "execute_result"
    }
   ],
   "source": [
    "#This a simple arithmetic expression to mutiply then add integers\n",
    "(3*4)+5"
   ]
  },
  {
   "cell_type": "code",
   "execution_count": 4,
   "id": "2d14d916-397f-4ffe-90b0-263681815988",
   "metadata": {},
   "outputs": [
    {
     "data": {
      "text/plain": [
       "3.3333333333333335"
      ]
     },
     "execution_count": 4,
     "metadata": {},
     "output_type": "execute_result"
    }
   ],
   "source": [
    "# This will convert 200 minutes to hours by diving by 60\n",
    "200/60"
   ]
  },
  {
   "cell_type": "markdown",
   "id": "9cfc5e93-6624-414e-a49e-a016a9d78cc0",
   "metadata": {},
   "source": [
    "## Author\n",
    "Dmitrii Makhov"
   ]
  },
  {
   "cell_type": "code",
   "execution_count": null,
   "id": "feb6105f-a1aa-46dd-b459-48440deee40b",
   "metadata": {},
   "outputs": [],
   "source": []
  }
 ],
 "metadata": {
  "kernelspec": {
   "display_name": "Python 3 (ipykernel)",
   "language": "python",
   "name": "python3"
  },
  "language_info": {
   "codemirror_mode": {
    "name": "ipython",
    "version": 3
   },
   "file_extension": ".py",
   "mimetype": "text/x-python",
   "name": "python",
   "nbconvert_exporter": "python",
   "pygments_lexer": "ipython3",
   "version": "3.11.9"
  }
 },
 "nbformat": 4,
 "nbformat_minor": 5
}
